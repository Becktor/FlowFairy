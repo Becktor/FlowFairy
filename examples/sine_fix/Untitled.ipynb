{
 "cells": [
  {
   "cell_type": "code",
   "execution_count": 1,
   "metadata": {
    "collapsed": true
   },
   "outputs": [],
   "source": [
    "import tensorflow as tf\n",
    "import os\n",
    "import matplotlib.pyplot as plt\n",
    "import numpy as np"
   ]
  },
  {
   "cell_type": "code",
   "execution_count": 2,
   "metadata": {
    "collapsed": false
   },
   "outputs": [
    {
     "data": {
      "text/plain": [
       "'settings'"
      ]
     },
     "execution_count": 2,
     "metadata": {},
     "output_type": "execute_result"
    }
   ],
   "source": [
    "os.environ.setdefault('GLUE_SETTINGS_MODULE', 'settings')"
   ]
  },
  {
   "cell_type": "code",
   "execution_count": 3,
   "metadata": {
    "collapsed": false
   },
   "outputs": [],
   "source": [
    "import sm_net\n",
    "from flowfairy.conf import settings"
   ]
  },
  {
   "cell_type": "code",
   "execution_count": 4,
   "metadata": {
    "collapsed": true
   },
   "outputs": [],
   "source": [
    "batch_size = settings.BATCH_SIZE\n",
    "samplerate = settings.SAMPLERATE"
   ]
  },
  {
   "cell_type": "code",
   "execution_count": 5,
   "metadata": {
    "collapsed": true
   },
   "outputs": [],
   "source": [
    "x = tf.placeholder(tf.float32, [64, samplerate])\n",
    "cls = tf.placeholder(tf.int32, 64)"
   ]
  },
  {
   "cell_type": "code",
   "execution_count": 6,
   "metadata": {
    "collapsed": false
   },
   "outputs": [
    {
     "name": "stdout",
     "output_type": "stream",
     "text": [
      "conv1:  Tensor(\"network/glu_conv1_1/mul:0\", shape=(64, 11024, 1, 4), dtype=float32)\n",
      "conv2:  Tensor(\"network/glu_conv2_1/mul:0\", shape=(64, 5512, 1, 8), dtype=float32)\n",
      "conv3:  Tensor(\"network/glu_conv3_1/mul:0\", shape=(64, 2756, 1, 64), dtype=float32)\n",
      "conv4:  Tensor(\"network/glu_conv4_1/mul:0\", shape=(64, 1378, 1, 64), dtype=float32)\n",
      "embedded: Tensor(\"network/embedding/concat:0\", shape=(64, 689, 1, 66), dtype=float32)\n",
      "conv5:  Tensor(\"network/glu_conv5_1/mul:0\", shape=(64, 689, 1, 64), dtype=float32)\n",
      "d2s_6:  Tensor(\"network/d2s1/DepthToSpace:0\", shape=(64, 2756, 4, 4), dtype=float32)\n",
      "conv6:  Tensor(\"network/glu_conv6_2/mul:0\", shape=(64, 2756, 1, 64), dtype=float32)\n",
      "d2s_7:  Tensor(\"network/d2s2/DepthToSpace:0\", shape=(64, 11024, 4, 4), dtype=float32)\n",
      "conv7:  Tensor(\"network/glu_conv8_2/mul:0\", shape=(64, 11024, 1, 64), dtype=float32)\n",
      "clsifyer:  Tensor(\"network/glu_clsifyer/mul:0\", shape=(64, 11024, 1, 256), dtype=float32)\n",
      "out:  Tensor(\"network/output/Reshape:0\", shape=(64, 11024, 256), dtype=float32)\n"
     ]
    }
   ],
   "source": [
    "with tf.variable_scope('network'):\n",
    "    net = sm_net.conv_net(x, cls, None)"
   ]
  },
  {
   "cell_type": "code",
   "execution_count": 7,
   "metadata": {
    "collapsed": true
   },
   "outputs": [],
   "source": [
    "saver = tf.train.Saver()"
   ]
  },
  {
   "cell_type": "code",
   "execution_count": 8,
   "metadata": {
    "collapsed": true
   },
   "outputs": [],
   "source": [
    "sess = tf.InteractiveSession()"
   ]
  },
  {
   "cell_type": "code",
   "execution_count": 9,
   "metadata": {
    "collapsed": false,
    "scrolled": false
   },
   "outputs": [
    {
     "name": "stdout",
     "output_type": "stream",
     "text": [
      "INFO:tensorflow:Restoring parameters from logs/emb_mid2.ckpt-1000\n"
     ]
    }
   ],
   "source": [
    "saver.restore(sess, 'logs/emb_mid2.ckpt-1000')"
   ]
  },
  {
   "cell_type": "code",
   "execution_count": 10,
   "metadata": {
    "collapsed": false
   },
   "outputs": [],
   "source": [
    "coll = tf.get_collection(tf.GraphKeys.TRAINABLE_VARIABLES)\n",
    "c1uw = coll[0]"
   ]
  },
  {
   "cell_type": "code",
   "execution_count": 12,
   "metadata": {
    "collapsed": false
   },
   "outputs": [
    {
     "name": "stdout",
     "output_type": "stream",
     "text": [
      "0 <tf.Variable 'network/conv1_1_unit/weights:0' shape=(128, 1, 1, 4) dtype=float32_ref>\n",
      "1 <tf.Variable 'network/conv1_1_unit/BatchNorm/beta:0' shape=(4,) dtype=float32_ref>\n",
      "2 <tf.Variable 'network/conv1_1_gate/weights:0' shape=(128, 1, 1, 4) dtype=float32_ref>\n",
      "3 <tf.Variable 'network/conv1_1_gate/BatchNorm/beta:0' shape=(4,) dtype=float32_ref>\n",
      "4 <tf.Variable 'network/conv2_1_unit/weights:0' shape=(128, 1, 4, 8) dtype=float32_ref>\n",
      "5 <tf.Variable 'network/conv2_1_unit/biases:0' shape=(8,) dtype=float32_ref>\n",
      "6 <tf.Variable 'network/conv2_1_gate/weights:0' shape=(128, 1, 4, 8) dtype=float32_ref>\n",
      "7 <tf.Variable 'network/conv2_1_gate/biases:0' shape=(8,) dtype=float32_ref>\n",
      "8 <tf.Variable 'network/conv3_1_unit/weights:0' shape=(128, 1, 8, 64) dtype=float32_ref>\n",
      "9 <tf.Variable 'network/conv3_1_unit/biases:0' shape=(64,) dtype=float32_ref>\n",
      "10 <tf.Variable 'network/conv3_1_gate/weights:0' shape=(128, 1, 8, 64) dtype=float32_ref>\n",
      "11 <tf.Variable 'network/conv3_1_gate/biases:0' shape=(64,) dtype=float32_ref>\n",
      "12 <tf.Variable 'network/conv4_1_unit/weights:0' shape=(128, 1, 64, 64) dtype=float32_ref>\n",
      "13 <tf.Variable 'network/conv4_1_unit/biases:0' shape=(64,) dtype=float32_ref>\n",
      "14 <tf.Variable 'network/conv4_1_gate/weights:0' shape=(128, 1, 64, 64) dtype=float32_ref>\n",
      "15 <tf.Variable 'network/conv4_1_gate/biases:0' shape=(64,) dtype=float32_ref>\n",
      "16 <tf.Variable 'network/embedding/embedding:0' shape=(200, 2) dtype=float32_ref>\n",
      "17 <tf.Variable 'network/conv5_1_unit/weights:0' shape=(128, 1, 66, 64) dtype=float32_ref>\n",
      "18 <tf.Variable 'network/conv5_1_unit/biases:0' shape=(64,) dtype=float32_ref>\n",
      "19 <tf.Variable 'network/conv5_1_gate/weights:0' shape=(128, 1, 66, 64) dtype=float32_ref>\n",
      "20 <tf.Variable 'network/conv5_1_gate/biases:0' shape=(64,) dtype=float32_ref>\n",
      "21 <tf.Variable 'network/conv6_2_unit/weights:0' shape=(128, 1, 80, 64) dtype=float32_ref>\n",
      "22 <tf.Variable 'network/conv6_2_unit/biases:0' shape=(64,) dtype=float32_ref>\n",
      "23 <tf.Variable 'network/conv6_2_gate/weights:0' shape=(128, 1, 80, 64) dtype=float32_ref>\n",
      "24 <tf.Variable 'network/conv6_2_gate/biases:0' shape=(64,) dtype=float32_ref>\n",
      "25 <tf.Variable 'network/conv8_2_unit/weights:0' shape=(128, 1, 20, 64) dtype=float32_ref>\n",
      "26 <tf.Variable 'network/conv8_2_unit/biases:0' shape=(64,) dtype=float32_ref>\n",
      "27 <tf.Variable 'network/conv8_2_gate/weights:0' shape=(128, 1, 20, 64) dtype=float32_ref>\n",
      "28 <tf.Variable 'network/conv8_2_gate/biases:0' shape=(64,) dtype=float32_ref>\n",
      "29 <tf.Variable 'network/clsifyer_unit/weights:0' shape=(1, 1, 64, 256) dtype=float32_ref>\n",
      "30 <tf.Variable 'network/clsifyer_unit/biases:0' shape=(256,) dtype=float32_ref>\n",
      "31 <tf.Variable 'network/clsifyer_gate/weights:0' shape=(1, 1, 64, 256) dtype=float32_ref>\n",
      "32 <tf.Variable 'network/clsifyer_gate/biases:0' shape=(256,) dtype=float32_ref>\n"
     ]
    }
   ],
   "source": [
    "i=0\n",
    "for i, v in enumerate(coll):\n",
    "    print(i,v)"
   ]
  },
  {
   "cell_type": "code",
   "execution_count": 17,
   "metadata": {
    "collapsed": false
   },
   "outputs": [
    {
     "name": "stdout",
     "output_type": "stream",
     "text": [
      "<tf.Variable 'network/embedding/embedding:0' shape=(200, 2) dtype=float32_ref>\n"
     ]
    },
    {
     "data": {
      "image/png": "[encoded data removed]",
      "text/plain": [
       "<matplotlib.figure.Figure at 0x7fae203ad630>"
      ]
     },
     "metadata": {},
     "output_type": "display_data"
    }
   ],
   "source": [
    "embedding = coll[16]\n",
    "print(embedding)\n",
    "plt.plot(embedding.eval().sum(axis=1))\n",
    "plt.show()"
   ]
  },
  {
   "cell_type": "code",
   "execution_count": null,
   "metadata": {
    "collapsed": false
   },
   "outputs": [],
   "source": [
    "def classify(val):\n",
    "    val = (val-np.min(val))/(np.max(val)-np.min(val))\n",
    "    return np.floor(val*255)\n"
   ]
  },
  {
   "cell_type": "code",
   "execution_count": null,
   "metadata": {
    "collapsed": false
   },
   "outputs": [],
   "source": [
    "myrange = np.arange(samplerate) / samplerate\n",
    "mysine = np.sin(myrange * np.pi * 2 * 135)\n",
    "mysine2 = np.sin(myrange * np.pi * 2 * 150)\n",
    "\n",
    "plt.plot(mysine)\n",
    "plt.show()"
   ]
  },
  {
   "cell_type": "code",
   "execution_count": null,
   "metadata": {
    "collapsed": false
   },
   "outputs": [],
   "source": [
    "print(mysine.shape)\n",
    "print(np.array([mysine]).shape)"
   ]
  },
  {
   "cell_type": "code",
   "execution_count": null,
   "metadata": {
    "collapsed": false,
    "scrolled": false
   },
   "outputs": [],
   "source": [
    "pred = tf.argmax(net, 2)\n",
    "b=np.tile(classify(mysine+mysine2),(64,1))\n",
    "y=np.arange(136,200)\n",
    "run = sess.run(pred, feed_dict={x: b, cls: y})"
   ]
  },
  {
   "cell_type": "code",
   "execution_count": null,
   "metadata": {
    "collapsed": false
   },
   "outputs": [],
   "source": [
    "\n",
    "[plt.plot(run[1000:1100]) for run in run]\n",
    "plt.plot(classify(mysine)[1000:1100], 'b', alpha=0.5)\n",
    "plt.plot(classify(mysine2)[1000:1100], 'g', alpha=0.5)\n",
    "plt.show()"
   ]
  },
  {
   "cell_type": "code",
   "execution_count": null,
   "metadata": {
    "collapsed": false
   },
   "outputs": [],
   "source": [
    "(150-120)/3\n"
   ]
  },
  {
   "cell_type": "code",
   "execution_count": null,
   "metadata": {
    "collapsed": true
   },
   "outputs": [],
   "source": []
  }
 ],
 "metadata": {
  "kernelspec": {
   "display_name": "Python 3",
   "language": "python",
   "name": "python3"
  },
  "language_info": {
   "codemirror_mode": {
    "name": "ipython",
    "version": 3
   },
   "file_extension": ".py",
   "mimetype": "text/x-python",
   "name": "python",
   "nbconvert_exporter": "python",
   "pygments_lexer": "ipython3",
   "version": "3.6.0"
  }
 },
 "nbformat": 4,
 "nbformat_minor": 2
}
