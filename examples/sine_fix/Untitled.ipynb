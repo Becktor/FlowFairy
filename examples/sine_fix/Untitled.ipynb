{
 "cells": [
  {
   "cell_type": "code",
   "execution_count": 1,
   "metadata": {
    "collapsed": true
   },
   "outputs": [],
   "source": [
    "import tensorflow as tf\n",
    "import os\n",
    "import matplotlib.pyplot as plt\n",
    "import numpy as np"
   ]
  },
  {
   "cell_type": "code",
   "execution_count": 2,
   "metadata": {
    "collapsed": false
   },
   "outputs": [
    {
     "data": {
      "text/plain": [
       "'settings'"
      ]
     },
     "execution_count": 2,
     "metadata": {},
     "output_type": "execute_result"
    }
   ],
   "source": [
    "os.environ.setdefault('GLUE_SETTINGS_MODULE', 'settings')"
   ]
  },
  {
   "cell_type": "code",
   "execution_count": 3,
   "metadata": {
    "collapsed": false
   },
   "outputs": [],
   "source": [
    "import gglu5 as gnet\n",
    "from flowfairy.conf import settings"
   ]
  },
  {
   "cell_type": "code",
   "execution_count": 4,
   "metadata": {
    "collapsed": true
   },
   "outputs": [],
   "source": [
    "batch_size = settings.BATCH_SIZE\n",
    "samplerate = settings.SAMPLERATE"
   ]
  },
  {
   "cell_type": "code",
   "execution_count": 5,
   "metadata": {
    "collapsed": true
   },
   "outputs": [],
   "source": [
    "x = tf.placeholder(tf.float32, [1, samplerate])\n",
    "cls = tf.placeholder(tf.int32, 1)"
   ]
  },
  {
   "cell_type": "code",
   "execution_count": 6,
   "metadata": {
    "collapsed": false
   },
   "outputs": [
    {
     "name": "stdout",
     "output_type": "stream",
     "text": [
      "conv1:  Tensor(\"network/MaxPool2D/MaxPool:0\", shape=(1, 8192, 1, 4), dtype=float32)\n",
      "embedded: Tensor(\"network/embedding/concat:0\", shape=(1, 8192, 1, 5), dtype=float32)\n",
      "conv2:  Tensor(\"network/MaxPool2D_1/MaxPool:0\", shape=(1, 4096, 1, 8), dtype=float32)\n",
      "conv3:  Tensor(\"network/mul_5:0\", shape=(1, 4096, 1, 16), dtype=float32)\n",
      "d2sp:  Tensor(\"network/DepthToSpace:0\", shape=(1, 16384, 4, 1), dtype=float32)\n",
      "conv4:  Tensor(\"network/mul_7:0\", shape=(1, 16384, 1, 16), dtype=float32)\n",
      "conv5:  Tensor(\"network/mul_8:0\", shape=(1, 16384, 1, 256), dtype=float32)\n",
      "out:  Tensor(\"network/Reshape_1:0\", shape=(1, 16384, 256), dtype=float32)\n"
     ]
    }
   ],
   "source": [
    "with tf.variable_scope('network'):\n",
    "    net = gnet.conv_net(x, cls, None)"
   ]
  },
  {
   "cell_type": "code",
   "execution_count": 7,
   "metadata": {
    "collapsed": true
   },
   "outputs": [],
   "source": [
    "saver = tf.train.Saver()"
   ]
  },
  {
   "cell_type": "code",
   "execution_count": 8,
   "metadata": {
    "collapsed": true
   },
   "outputs": [],
   "source": [
    "sess = tf.InteractiveSession()"
   ]
  },
  {
   "cell_type": "code",
   "execution_count": 9,
   "metadata": {
    "collapsed": false
   },
   "outputs": [
    {
     "name": "stdout",
     "output_type": "stream",
     "text": [
      "INFO:tensorflow:Restoring parameters from logs/GGLU5_norm_causal.ckpt-75000\n"
     ]
    }
   ],
   "source": [
    "saver.restore(sess, 'logs/GGLU5_norm_causal.ckpt-75000')#tf.train.latest_checkpoint('logs'))"
   ]
  },
  {
   "cell_type": "code",
   "execution_count": 10,
   "metadata": {
    "collapsed": false
   },
   "outputs": [],
   "source": [
    "coll = tf.get_collection(tf.GraphKeys.TRAINABLE_VARIABLES)\n",
    "c1uw = coll[0]"
   ]
  },
  {
   "cell_type": "code",
   "execution_count": 11,
   "metadata": {
    "collapsed": false
   },
   "outputs": [],
   "source": [
    "def plot_filter(var, flt):\n",
    "    plt.plot(var.eval()[:,0,0,flt])"
   ]
  },
  {
   "cell_type": "code",
   "execution_count": 12,
   "metadata": {
    "collapsed": false
   },
   "outputs": [],
   "source": [
    "#plot_filter(c1uw, 0)\n",
    "#plot_filter(c1uw, 1)\n",
    "#plot_filter(c1uw, 2)\n",
    "#plot_filter(c1uw, 3)\n",
    "#plt.show()"
   ]
  },
  {
   "cell_type": "code",
   "execution_count": 13,
   "metadata": {
    "collapsed": false
   },
   "outputs": [
    {
     "name": "stdout",
     "output_type": "stream",
     "text": [
      "<tf.Variable 'network/conv1_1_unit/weights:0' shape=(256, 1, 1, 4) dtype=float32_ref>\n",
      "<tf.Variable 'network/conv1_1_unit/BatchNorm/beta:0' shape=(4,) dtype=float32_ref>\n",
      "<tf.Variable 'network/conv1_1_gate/weights:0' shape=(256, 1, 1, 4) dtype=float32_ref>\n",
      "<tf.Variable 'network/conv1_1_gate/BatchNorm/beta:0' shape=(4,) dtype=float32_ref>\n",
      "<tf.Variable 'network/conv1_2_unit/weights:0' shape=(256, 1, 4, 4) dtype=float32_ref>\n",
      "<tf.Variable 'network/conv1_2_unit/biases:0' shape=(4,) dtype=float32_ref>\n",
      "<tf.Variable 'network/conv1_2_gate/weights:0' shape=(256, 1, 4, 4) dtype=float32_ref>\n",
      "<tf.Variable 'network/conv1_2_gate/biases:0' shape=(4,) dtype=float32_ref>\n",
      "<tf.Variable 'network/embedding/embedding_1:0' shape=(200, 1) dtype=float32_ref>\n",
      "<tf.Variable 'network/conv2_1_unit/weights:0' shape=(128, 1, 5, 8) dtype=float32_ref>\n",
      "<tf.Variable 'network/conv2_1_unit/biases:0' shape=(8,) dtype=float32_ref>\n",
      "<tf.Variable 'network/conv2_1_gate/weights:0' shape=(128, 1, 5, 8) dtype=float32_ref>\n",
      "<tf.Variable 'network/conv2_1_gate/biases:0' shape=(8,) dtype=float32_ref>\n",
      "<tf.Variable 'network/conv2_2_unit/weights:0' shape=(128, 1, 8, 8) dtype=float32_ref>\n",
      "<tf.Variable 'network/conv2_2_unit/biases:0' shape=(8,) dtype=float32_ref>\n",
      "<tf.Variable 'network/conv2_2_gate/weights:0' shape=(128, 1, 8, 8) dtype=float32_ref>\n",
      "<tf.Variable 'network/conv2_2_gate/biases:0' shape=(8,) dtype=float32_ref>\n",
      "<tf.Variable 'network/conv3_1_unit/weights:0' shape=(128, 1, 8, 16) dtype=float32_ref>\n",
      "<tf.Variable 'network/conv3_1_unit/biases:0' shape=(16,) dtype=float32_ref>\n",
      "<tf.Variable 'network/conv3_1_gate/weights:0' shape=(128, 1, 8, 16) dtype=float32_ref>\n",
      "<tf.Variable 'network/conv3_1_gate/biases:0' shape=(16,) dtype=float32_ref>\n",
      "<tf.Variable 'network/conv3_2_unit/weights:0' shape=(128, 1, 16, 16) dtype=float32_ref>\n",
      "<tf.Variable 'network/conv3_2_unit/biases:0' shape=(16,) dtype=float32_ref>\n",
      "<tf.Variable 'network/conv3_2_gate/weights:0' shape=(128, 1, 16, 16) dtype=float32_ref>\n",
      "<tf.Variable 'network/conv3_2_gate/biases:0' shape=(16,) dtype=float32_ref>\n",
      "<tf.Variable 'network/conv4_1_unit/weights:0' shape=(128, 1, 4, 16) dtype=float32_ref>\n",
      "<tf.Variable 'network/conv4_1_unit/biases:0' shape=(16,) dtype=float32_ref>\n",
      "<tf.Variable 'network/conv4_1_gate/weights:0' shape=(128, 1, 4, 16) dtype=float32_ref>\n",
      "<tf.Variable 'network/conv4_1_gate/biases:0' shape=(16,) dtype=float32_ref>\n",
      "<tf.Variable 'network/conv4_2_unit/weights:0' shape=(128, 1, 16, 16) dtype=float32_ref>\n",
      "<tf.Variable 'network/conv4_2_unit/biases:0' shape=(16,) dtype=float32_ref>\n",
      "<tf.Variable 'network/conv4_2_gate/weights:0' shape=(128, 1, 16, 16) dtype=float32_ref>\n",
      "<tf.Variable 'network/conv4_2_gate/biases:0' shape=(16,) dtype=float32_ref>\n",
      "<tf.Variable 'network/conv5_unit/weights:0' shape=(2, 1, 20, 256) dtype=float32_ref>\n",
      "<tf.Variable 'network/conv5_unit/biases:0' shape=(256,) dtype=float32_ref>\n",
      "<tf.Variable 'network/conv5_gate/weights:0' shape=(2, 1, 20, 256) dtype=float32_ref>\n",
      "<tf.Variable 'network/conv5_gate/biases:0' shape=(256,) dtype=float32_ref>\n"
     ]
    }
   ],
   "source": [
    "for v in coll:\n",
    "    print(v)"
   ]
  },
  {
   "cell_type": "code",
   "execution_count": 14,
   "metadata": {
    "collapsed": false
   },
   "outputs": [
    {
     "data": {
      "image/png": "[encoded data removed]",
      "text/plain": [
       "<matplotlib.figure.Figure at 0x7f4e84b4cda0>"
      ]
     },
     "metadata": {},
     "output_type": "display_data"
    },
    {
     "name": "stdout",
     "output_type": "stream",
     "text": [
      "-1.10615\n",
      "0.921027\n"
     ]
    }
   ],
   "source": [
    "embedding = coll[8][:,0]\n",
    "#print(embedding)\n",
    "plt.plot((embedding.eval()))\n",
    "plt.show()\n",
    "\n",
    "print(embedding.eval()[50])\n",
    "print(embedding.eval()[64])"
   ]
  },
  {
   "cell_type": "code",
   "execution_count": 15,
   "metadata": {
    "collapsed": false
   },
   "outputs": [],
   "source": [
    "def classify(val):\n",
    "    val = (val-np.min(val))/(np.max(val)-np.min(val))\n",
    "    return np.floor(val*255)\n",
    "\n",
    "def getid(frq):\n",
    "    limits = settings.FREQUENCY_LIMIT\n",
    "    count = settings.CLASS_COUNT\n",
    "    step = (limits[1] - limits[0]) // count\n",
    "    return (frq-limits[0])//step\n",
    "\n",
    "def getfrq(fid):\n",
    "    limits = settings.FREQUENCY_LIMIT\n",
    "    count = settings.CLASS_COUNT\n",
    "    step = (limits[1] - limits[0]) // count\n",
    "    return limits[0] + step*fid"
   ]
  },
  {
   "cell_type": "code",
   "execution_count": 16,
   "metadata": {
    "collapsed": false,
    "scrolled": false
   },
   "outputs": [],
   "source": [
    "pred = tf.argmax(net, 2)\n"
   ]
  },
  {
   "cell_type": "code",
   "execution_count": 48,
   "metadata": {
    "collapsed": false
   },
   "outputs": [
    {
     "name": "stdout",
     "output_type": "stream",
     "text": [
      "687\n",
      "150\n"
     ]
    }
   ],
   "source": [
    "frqid = 189\n",
    "frq = getfrq(frqid)\n",
    "print(frq)\n",
    "\n",
    "bfrq = getfrq(199-frqid)\n",
    "print(bfrq)\n",
    "\n",
    "myrange = np.arange(samplerate) * 2 * np.pi / samplerate\n",
    "mysine = np.sin(myrange * frq)\n",
    "mysine2 = np.sin(myrange * bfrq)\n",
    "noise = np.random.uniform(-0.5, 0.5, samplerate)\n",
    "\n",
    "#plt.plot(mysine)\n",
    "#plt.show()"
   ]
  },
  {
   "cell_type": "code",
   "execution_count": 49,
   "metadata": {
    "collapsed": false
   },
   "outputs": [],
   "source": [
    "b = np.array([mysine+mysine2+noise])\n",
    "y = np.array([frqid])\n",
    "#b=np.tile(classify(mysine+mysine2),(64,1))\n",
    "#y=np.arange(136,200)\n",
    "run = sess.run(pred, feed_dict={x: b, cls: y})"
   ]
  },
  {
   "cell_type": "code",
   "execution_count": 50,
   "metadata": {
    "collapsed": false
   },
   "outputs": [
    {
     "data": {
      "image/png": "[encoded data removed]",
      "text/plain": [
       "<matplotlib.figure.Figure at 0x7f4e2c0ac0b8>"
      ]
     },
     "metadata": {},
     "output_type": "display_data"
    }
   ],
   "source": [
    "plt.plot(classify(b[0][1000:1100]))\n",
    "plt.plot(run[0][1000:1100], 'r')\n",
    "plt.plot(classify(mysine)[1000:1100], 'b', alpha=0.5)\n",
    "plt.plot(classify(mysine2)[1000:1100], 'g', alpha=0.5)\n",
    "plt.show()"
   ]
  },
  {
   "cell_type": "code",
   "execution_count": null,
   "metadata": {
    "collapsed": false
   },
   "outputs": [],
   "source": []
  },
  {
   "cell_type": "code",
   "execution_count": 20,
   "metadata": {
    "collapsed": false
   },
   "outputs": [
    {
     "name": "stdout",
     "output_type": "stream",
     "text": [
      "76\n",
      "176\n",
      "312\n",
      "270\n"
     ]
    }
   ],
   "source": [
    "print(getid(350))\n",
    "print(getid(650))\n",
    "\n",
    "print(120+3*64)\n",
    "print(120+3*50)\n"
   ]
  }
 ],
 "metadata": {
  "kernelspec": {
   "display_name": "Python 3",
   "language": "python",
   "name": "python3"
  },
  "language_info": {
   "codemirror_mode": {
    "name": "ipython",
    "version": 3
   },
   "file_extension": ".py",
   "mimetype": "text/x-python",
   "name": "python",
   "nbconvert_exporter": "python",
   "pygments_lexer": "ipython3",
   "version": "3.6.0"
  }
 },
 "nbformat": 4,
 "nbformat_minor": 2
}
