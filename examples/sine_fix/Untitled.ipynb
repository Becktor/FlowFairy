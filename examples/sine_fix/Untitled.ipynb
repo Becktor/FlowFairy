{
 "cells": [
  {
   "cell_type": "code",
   "execution_count": 12,
   "metadata": {
    "collapsed": true
   },
   "outputs": [],
   "source": [
    "import tensorflow as tf\n",
    "import os\n",
    "import matplotlib.pyplot as plt\n",
    "import numpy as np\n",
    "import soundfile\n",
    "import glob"
   ]
  },
  {
   "cell_type": "code",
   "execution_count": 57,
   "metadata": {
    "collapsed": false
   },
   "outputs": [
    {
     "data": {
      "text/plain": [
       "'settings'"
      ]
     },
     "execution_count": 57,
     "metadata": {},
     "output_type": "execute_result"
    }
   ],
   "source": [
    "os.environ.setdefault('GLUE_SETTINGS_MODULE', 'settings')"
   ]
  },
  {
   "cell_type": "code",
   "execution_count": 58,
   "metadata": {
    "collapsed": false
   },
   "outputs": [],
   "source": [
    "import netops as gnet\n",
    "from flowfairy.conf import settings"
   ]
  },
  {
   "cell_type": "code",
   "execution_count": 4,
   "metadata": {
    "collapsed": true
   },
   "outputs": [],
   "source": [
    "batch_size = settings.BATCH_SIZE\n",
    "samplerate = settings.SAMPLERATE"
   ]
  },
  {
   "cell_type": "code",
   "execution_count": 5,
   "metadata": {
    "collapsed": true
   },
   "outputs": [],
   "source": [
    "x = tf.placeholder(tf.float32, [1, samplerate])\n",
    "cls = tf.placeholder(tf.int32, 1)"
   ]
  },
  {
   "cell_type": "code",
   "execution_count": 6,
   "metadata": {
    "collapsed": false
   },
   "outputs": [
    {
     "name": "stdout",
     "output_type": "stream",
     "text": [
      "conv1 Tensor(\"network/causal_conv1_1/glu_conv1_1/mul:0\", shape=(1, 16384, 1, 4), dtype=float32)\n",
      "conv1_d1  Tensor(\"network/glu_conv1_d1/mul:0\", shape=(1, 16384, 1, 4), dtype=float32)\n",
      "conv1_d2  Tensor(\"network/glu_conv1_d2/mul:0\", shape=(1, 16384, 1, 4), dtype=float32)\n",
      "conv1_d4  Tensor(\"network/glu_conv1_d4/mul:0\", shape=(1, 16384, 1, 4), dtype=float32)\n",
      "conv1_concat Tensor(\"network/concat:0\", shape=(1, 16384, 1, 12), dtype=float32)\n",
      "conv2:  Tensor(\"network/MaxPool2D/MaxPool:0\", shape=(1, 8192, 1, 8), dtype=float32)\n",
      "embedded: Tensor(\"network/embedding/concat:0\", shape=(1, 8192, 1, 10), dtype=float32)\n",
      "conv3:  Tensor(\"network/glu_conv3_2/mul:0\", shape=(1, 8192, 1, 16), dtype=float32)\n",
      "d2sp:  Tensor(\"network/DepthToSpace:0\", shape=(1, 32768, 4, 1), dtype=float32)\n",
      "conv4:  Tensor(\"network/glu_conv4_2/mul:0\", shape=(1, 16384, 1, 16), dtype=float32)\n",
      "conv5:  Tensor(\"network/glu_conv5/mul:0\", shape=(1, 16384, 1, 256), dtype=float32)\n",
      "out:  Tensor(\"network/Reshape_1:0\", shape=(1, 16384, 256), dtype=float32)\n"
     ]
    }
   ],
   "source": [
    "with tf.variable_scope('network'):\n",
    "    net = gnet.conv_net(x, cls, None)"
   ]
  },
  {
   "cell_type": "code",
   "execution_count": 7,
   "metadata": {
    "collapsed": true
   },
   "outputs": [],
   "source": [
    "saver = tf.train.Saver()"
   ]
  },
  {
   "cell_type": "code",
   "execution_count": 8,
   "metadata": {
    "collapsed": true
   },
   "outputs": [],
   "source": [
    "sess = tf.InteractiveSession()"
   ]
  },
  {
   "cell_type": "code",
   "execution_count": 9,
   "metadata": {
    "collapsed": false
   },
   "outputs": [
    {
     "name": "stdout",
     "output_type": "stream",
     "text": [
      "INFO:tensorflow:Restoring parameters from /home/s123859/flowfairy/examples/sine_fix/logs/dilated3.ckpt-79000\n"
     ]
    }
   ],
   "source": [
    "fname = 'dilated3.checkpoint'\n",
    "#saver.restore(sess, 'logs/dilated3.ckpt-70000')\n",
    "saver.restore(sess, tf.train.latest_checkpoint('logs', latest_filename=fname))"
   ]
  },
  {
   "cell_type": "code",
   "execution_count": 10,
   "metadata": {
    "collapsed": false
   },
   "outputs": [],
   "source": [
    "coll = tf.get_collection(tf.GraphKeys.TRAINABLE_VARIABLES)\n",
    "c1uw = coll[0]"
   ]
  },
  {
   "cell_type": "code",
   "execution_count": 11,
   "metadata": {
    "collapsed": false
   },
   "outputs": [],
   "source": [
    "def plot_filter(var, flt):\n",
    "    plt.plot(var.eval()[:,0,0,flt])"
   ]
  },
  {
   "cell_type": "code",
   "execution_count": 12,
   "metadata": {
    "collapsed": false
   },
   "outputs": [],
   "source": [
    "#plot_filter(c1uw, 0)\n",
    "#plot_filter(c1uw, 1)\n",
    "#plot_filter(c1uw, 2)\n",
    "#plot_filter(c1uw, 3)\n",
    "#plt.show()"
   ]
  },
  {
   "cell_type": "code",
   "execution_count": 13,
   "metadata": {
    "collapsed": false
   },
   "outputs": [
    {
     "name": "stdout",
     "output_type": "stream",
     "text": [
      "(0, <tf.Variable 'network/conv1_1_unit/weights:0' shape=(128, 1, 1, 4) dtype=float32_ref>)\n",
      "(1, <tf.Variable 'network/conv1_1_unit/BatchNorm/beta:0' shape=(4,) dtype=float32_ref>)\n",
      "(2, <tf.Variable 'network/conv1_1_gate/weights:0' shape=(128, 1, 1, 4) dtype=float32_ref>)\n",
      "(3, <tf.Variable 'network/conv1_1_gate/BatchNorm/beta:0' shape=(4,) dtype=float32_ref>)\n",
      "(4, <tf.Variable 'network/conv1_d1_unit/weights:0' shape=(128, 1, 4, 4) dtype=float32_ref>)\n",
      "(5, <tf.Variable 'network/conv1_d1_unit/biases:0' shape=(4,) dtype=float32_ref>)\n",
      "(6, <tf.Variable 'network/conv1_d1_gate/weights:0' shape=(128, 1, 4, 4) dtype=float32_ref>)\n",
      "(7, <tf.Variable 'network/conv1_d1_gate/biases:0' shape=(4,) dtype=float32_ref>)\n",
      "(8, <tf.Variable 'network/conv1_d2_unit/weights:0' shape=(128, 1, 4, 4) dtype=float32_ref>)\n",
      "(9, <tf.Variable 'network/conv1_d2_unit/biases:0' shape=(4,) dtype=float32_ref>)\n",
      "(10, <tf.Variable 'network/conv1_d2_gate/weights:0' shape=(128, 1, 4, 4) dtype=float32_ref>)\n",
      "(11, <tf.Variable 'network/conv1_d2_gate/biases:0' shape=(4,) dtype=float32_ref>)\n",
      "(12, <tf.Variable 'network/conv1_d4_unit/weights:0' shape=(128, 1, 4, 4) dtype=float32_ref>)\n",
      "(13, <tf.Variable 'network/conv1_d4_unit/biases:0' shape=(4,) dtype=float32_ref>)\n",
      "(14, <tf.Variable 'network/conv1_d4_gate/weights:0' shape=(128, 1, 4, 4) dtype=float32_ref>)\n",
      "(15, <tf.Variable 'network/conv1_d4_gate/biases:0' shape=(4,) dtype=float32_ref>)\n",
      "(16, <tf.Variable 'network/conv2_1_unit/weights:0' shape=(128, 1, 12, 8) dtype=float32_ref>)\n",
      "(17, <tf.Variable 'network/conv2_1_unit/biases:0' shape=(8,) dtype=float32_ref>)\n",
      "(18, <tf.Variable 'network/conv2_1_gate/weights:0' shape=(128, 1, 12, 8) dtype=float32_ref>)\n",
      "(19, <tf.Variable 'network/conv2_1_gate/biases:0' shape=(8,) dtype=float32_ref>)\n",
      "(20, <tf.Variable 'network/conv2_2_unit/weights:0' shape=(128, 1, 8, 8) dtype=float32_ref>)\n",
      "(21, <tf.Variable 'network/conv2_2_unit/biases:0' shape=(8,) dtype=float32_ref>)\n",
      "(22, <tf.Variable 'network/conv2_2_gate/weights:0' shape=(128, 1, 8, 8) dtype=float32_ref>)\n",
      "(23, <tf.Variable 'network/conv2_2_gate/biases:0' shape=(8,) dtype=float32_ref>)\n",
      "(24, <tf.Variable 'network/embedding/embedding:0' shape=(200, 2) dtype=float32_ref>)\n",
      "(25, <tf.Variable 'network/conv3_1_unit/weights:0' shape=(128, 1, 10, 16) dtype=float32_ref>)\n",
      "(26, <tf.Variable 'network/conv3_1_unit/biases:0' shape=(16,) dtype=float32_ref>)\n",
      "(27, <tf.Variable 'network/conv3_1_gate/weights:0' shape=(128, 1, 10, 16) dtype=float32_ref>)\n",
      "(28, <tf.Variable 'network/conv3_1_gate/biases:0' shape=(16,) dtype=float32_ref>)\n",
      "(29, <tf.Variable 'network/conv3_2_unit/weights:0' shape=(128, 1, 16, 16) dtype=float32_ref>)\n",
      "(30, <tf.Variable 'network/conv3_2_unit/biases:0' shape=(16,) dtype=float32_ref>)\n",
      "(31, <tf.Variable 'network/conv3_2_gate/weights:0' shape=(128, 1, 16, 16) dtype=float32_ref>)\n",
      "(32, <tf.Variable 'network/conv3_2_gate/biases:0' shape=(16,) dtype=float32_ref>)\n",
      "(33, <tf.Variable 'network/conv4_1_unit/weights:0' shape=(128, 1, 8, 16) dtype=float32_ref>)\n",
      "(34, <tf.Variable 'network/conv4_1_unit/biases:0' shape=(16,) dtype=float32_ref>)\n",
      "(35, <tf.Variable 'network/conv4_1_gate/weights:0' shape=(128, 1, 8, 16) dtype=float32_ref>)\n",
      "(36, <tf.Variable 'network/conv4_1_gate/biases:0' shape=(16,) dtype=float32_ref>)\n",
      "(37, <tf.Variable 'network/conv4_2_unit/weights:0' shape=(128, 1, 28, 16) dtype=float32_ref>)\n",
      "(38, <tf.Variable 'network/conv4_2_unit/biases:0' shape=(16,) dtype=float32_ref>)\n",
      "(39, <tf.Variable 'network/conv4_2_gate/weights:0' shape=(128, 1, 28, 16) dtype=float32_ref>)\n",
      "(40, <tf.Variable 'network/conv4_2_gate/biases:0' shape=(16,) dtype=float32_ref>)\n",
      "(41, <tf.Variable 'network/conv5_unit/weights:0' shape=(2, 1, 16, 256) dtype=float32_ref>)\n",
      "(42, <tf.Variable 'network/conv5_unit/biases:0' shape=(256,) dtype=float32_ref>)\n",
      "(43, <tf.Variable 'network/conv5_gate/weights:0' shape=(2, 1, 16, 256) dtype=float32_ref>)\n",
      "(44, <tf.Variable 'network/conv5_gate/biases:0' shape=(256,) dtype=float32_ref>)\n"
     ]
    }
   ],
   "source": [
    "for v in enumerate(coll):\n",
    "    print(v)"
   ]
  },
  {
   "cell_type": "code",
   "execution_count": 14,
   "metadata": {
    "collapsed": false,
    "scrolled": true
   },
   "outputs": [
    {
     "name": "stdout",
     "output_type": "stream",
     "text": [
      "(200, 2)\n"
     ]
    },
    {
     "data": {
      "image/png": "[encoded data removed]",
      "text/plain": [
       "<matplotlib.figure.Figure at 0x7f450a7d6828>"
      ]
     },
     "metadata": {},
     "output_type": "display_data"
    },
    {
     "name": "stdout",
     "output_type": "stream",
     "text": [
      "[-0.25976446 -0.06300437]\n",
      "[-0.30728337  0.08011562]\n"
     ]
    }
   ],
   "source": [
    "embedding = coll[24]\n",
    "#print(embedding)\n",
    "emb = embedding.eval()\n",
    "print(emb.shape)\n",
    "plt.plot(emb)\n",
    "plt.savefig('embedding.eps', format='eps', dpi=1000)\n",
    "plt.show()\n",
    "\n",
    "print(embedding.eval()[50])\n",
    "print(embedding.eval()[64])"
   ]
  },
  {
   "cell_type": "code",
   "execution_count": 15,
   "metadata": {
    "collapsed": false
   },
   "outputs": [],
   "source": [
    "def classify(val):\n",
    "    val = (val-np.min(val))/(np.max(val)-np.min(val))\n",
    "    return np.floor(val*255)\n",
    "\n",
    "def getid(frq):\n",
    "    limits = settings.FREQUENCY_LIMIT\n",
    "    count = settings.CLASS_COUNT\n",
    "    step = (limits[1] - limits[0]) // count\n",
    "    return (frq-limits[0])//step\n",
    "\n",
    "def getfrq(fid):\n",
    "    limits = settings.FREQUENCY_LIMIT\n",
    "    count = settings.CLASS_COUNT\n",
    "    step = (limits[1] - limits[0]) // count\n",
    "    return limits[0] + step*fid"
   ]
  },
  {
   "cell_type": "code",
   "execution_count": 16,
   "metadata": {
    "collapsed": false
   },
   "outputs": [
    {
     "name": "stdout",
     "output_type": "stream",
     "text": [
      "conv1 Tensor(\"network_1/causal_conv1_1/glu_conv1_1/mul:0\", shape=(1, 16384, 1, 4), dtype=float32)\n",
      "conv1_d1  Tensor(\"network_1/glu_conv1_d1/mul:0\", shape=(1, 16384, 1, 4), dtype=float32)\n",
      "conv1_d2  Tensor(\"network_1/glu_conv1_d2/mul:0\", shape=(1, 16384, 1, 4), dtype=float32)\n",
      "conv1_d4  Tensor(\"network_1/glu_conv1_d4/mul:0\", shape=(1, 16384, 1, 4), dtype=float32)\n",
      "conv1_concat Tensor(\"network_1/concat:0\", shape=(1, 16384, 1, 12), dtype=float32)\n",
      "conv2:  Tensor(\"network_1/MaxPool2D/MaxPool:0\", shape=(1, 8192, 1, 8), dtype=float32)\n",
      "embedded: Tensor(\"network_1/embedding/concat:0\", shape=(1, 8192, 1, 10), dtype=float32)\n",
      "conv3:  Tensor(\"network_1/glu_conv3_2/mul:0\", shape=(1, 8192, 1, 16), dtype=float32)\n",
      "d2sp:  Tensor(\"network_1/DepthToSpace:0\", shape=(1, 32768, 4, 1), dtype=float32)\n",
      "conv4:  Tensor(\"network_1/glu_conv4_2/mul:0\", shape=(1, 16384, 1, 16), dtype=float32)\n",
      "conv5:  Tensor(\"network_1/glu_conv5/mul:0\", shape=(1, 16384, 1, 256), dtype=float32)\n",
      "out:  Tensor(\"network_1/Reshape_1:0\", shape=(1, 16384, 256), dtype=float32)\n"
     ]
    }
   ],
   "source": [
    "with tf.variable_scope('network', reuse=True):\n",
    "    tnet = gnet.conv_net(x, cls, None, is_training=True)"
   ]
  },
  {
   "cell_type": "code",
   "execution_count": 17,
   "metadata": {
    "collapsed": false,
    "scrolled": false
   },
   "outputs": [],
   "source": [
    "pred = tf.argmax(net, 2)\n"
   ]
  },
  {
   "cell_type": "code",
   "execution_count": 18,
   "metadata": {
    "collapsed": true
   },
   "outputs": [],
   "source": [
    "tpred = tf.argmax(tnet, 2)"
   ]
  },
  {
   "cell_type": "code",
   "execution_count": 19,
   "metadata": {
    "collapsed": false
   },
   "outputs": [
    {
     "name": "stdout",
     "output_type": "stream",
     "text": [
      "396\n",
      "590\n",
      "[ 2.12955805  1.56227273]\n"
     ]
    }
   ],
   "source": [
    "frqid = 98\n",
    "frq = getfrq(frqid)\n",
    "print(frq)\n",
    "\n",
    "bfrq = getfrq(195)\n",
    "print(bfrq)\n",
    "\n",
    "amp = np.random.rand(2) * 3 + 1\n",
    "print(amp)\n",
    "\n",
    "myrange = np.arange(samplerate) * 2 * np.pi / samplerate\n",
    "mysine = np.sin(myrange * frq * amp[0])\n",
    "mysine2 = np.sin(myrange * bfrq * amp[1])\n",
    "noise = np.random.uniform(-0.5, 0.5, samplerate)\n",
    "\n",
    "#plt.plot(mysine)\n",
    "#plt.show()"
   ]
  },
  {
   "cell_type": "code",
   "execution_count": 20,
   "metadata": {
    "collapsed": false
   },
   "outputs": [],
   "source": [
    "b = np.array([mysine+mysine2+noise])\n",
    "y = np.array([frqid])\n",
    "#b=np.tile(classify(mysine+mysine2),(64,1))\n",
    "#y=np.arange(136,200)\n",
    "run = sess.run(pred, feed_dict={x: b, cls: y})"
   ]
  },
  {
   "cell_type": "code",
   "execution_count": 21,
   "metadata": {
    "collapsed": false
   },
   "outputs": [
    {
     "data": {
      "image/png": "[encoded data removed]",
      "text/plain": [
       "<matplotlib.figure.Figure at 0x7f44b843e780>"
      ]
     },
     "metadata": {},
     "output_type": "display_data"
    }
   ],
   "source": [
    "plt.plot(classify(b[0][1000:1100]), 'g', alpha=0.5)\n",
    "plt.plot(run[0][1000:1100], 'r')\n",
    "plt.plot(classify(mysine)[1000:1100], 'b', alpha=0.5)\n",
    "#plt.plot(classify(mysine2)[1000:1100], 'g', alpha=0.5)\n",
    "plt.show()"
   ]
  },
  {
   "cell_type": "code",
   "execution_count": 22,
   "metadata": {
    "collapsed": false
   },
   "outputs": [
    {
     "name": "stdout",
     "output_type": "stream",
     "text": [
      "<property object at 0x7f45233ca278>\n",
      "[]\n",
      "130000\n"
     ]
    }
   ],
   "source": [
    "print(tf.train.Saver.last_checkpoints)\n",
    "print(saver.last_checkpoints)\n",
    "l = tf.train.latest_checkpoint('logs', latest_filename='GGLU_e2_256.checkpoint')\n",
    "step = l[l.rfind('-')+1:]\n",
    "print(step)"
   ]
  },
  {
   "cell_type": "code",
   "execution_count": 10,
   "metadata": {
    "collapsed": false
   },
   "outputs": [
    {
     "name": "stdout",
     "output_type": "stream",
     "text": [
      "(20, 1)\n"
     ]
    }
   ],
   "source": [
    "unc = np.random.rand(2,20)\n",
    "unc = unc[0,:,None]\n",
    "noise = np.random.rand(20, 1)\n",
    "unc = unc + noise\n",
    "print(unc.shape)"
   ]
  },
  {
   "cell_type": "code",
   "execution_count": 85,
   "metadata": {
    "collapsed": false
   },
   "outputs": [
    {
     "name": "stdout",
     "output_type": "stream",
     "text": [
      "0.971984863281\n",
      "303289\n",
      "rip [  2.74658203e-04   2.13623047e-04   6.10351562e-05 ...,  -6.10351562e-05\n",
      "   3.05175781e-05  -1.22070312e-04]\n",
      "-0.000762939453125\n",
      "rip+min [-0.00048828 -0.00054932 -0.0007019  ..., -0.00082397 -0.00073242\n",
      " -0.00088501]\n",
      "min -0.00152587890625\n",
      "0.00152587890625\n",
      "max 0.0\n"
     ]
    },
    {
     "data": {
      "text/plain": [
       "dtype('float64')"
      ]
     },
     "execution_count": 85,
     "metadata": {},
     "output_type": "execute_result"
    }
   ],
   "source": [
    "basedir = '/home/sorson/audio_dataset/preprocessed_22050/'\n",
    "\n",
    "#npz = list(glob.glob(os.path.join(basedir, 'test', '*.npz')))[0]\n",
    "npz = '/home/sorson/audio_dataset/preprocessed_22050/train/7565-101287-0066.npz'\n",
    "mid = np.array(0)\n",
    "\n",
    "f = np.load(npz)\n",
    "it = f['speaker_class']\n",
    "\n",
    "        \n",
    "#print(it)\n",
    "\n",
    "#print(f.items())\n",
    "\n",
    "spath = str(f['audio_file']).replace('//', '/')\n",
    "data, sr = soundfile.read(spath)\n",
    "\n",
    "#print(data[292265:])\n",
    "print((data + np.abs(data.min())).max())\n",
    "ol = settings.OUTPUTLEN\n",
    "lidx = 292265\n",
    "ridx = lidx + ol\n",
    "print(ridx)\n",
    "\n",
    "rip = data[292265:ridx]\n",
    "\n",
    "print('rip', rip)\n",
    "print(rip.min())\n",
    "rip += rip.min()\n",
    "print('rip+min', rip)\n",
    "print('min',rip.min())\n",
    "print(np.abs(rip).max())\n",
    "rip = rip / np.abs(rip).max()\n",
    "print(f'max {rip.max()}')\n",
    "#(2483) do not match the number of lines in metadata (2338)\n",
    "#print(data[:,None].shape)\n",
    "rip.dtype"
   ]
  },
  {
   "cell_type": "code",
   "execution_count": 93,
   "metadata": {
    "collapsed": false
   },
   "outputs": [
    {
     "name": "stdout",
     "output_type": "stream",
     "text": [
      "[(1, 'y'), (2, 'x')]\n"
     ]
    }
   ],
   "source": [
    "print(sorted([(2, 'x'), (1,'y')]))"
   ]
  },
  {
   "cell_type": "code",
   "execution_count": 91,
   "metadata": {
    "collapsed": false
   },
   "outputs": [],
   "source": [
    "npz = glob.glob(os.path.join(basedir, 'train', '*.npz'))\n",
    "\n",
    "d = {}\n",
    "n2g = ['M', 'F']\n",
    "for npz in npz:\n",
    "    f = np.load(npz)\n",
    "    spkid = int(f['speaker_class'])\n",
    "    gender = n2g[f['gender']]\n",
    "    d[spkid] = gender\n",
    "    \n",
    "with open('idtogender.tsv', 'w+') as f:\n",
    "    f.write('spkid\\tgender\\n')\n",
    "    for spkid, gender in sorted(d.items()):\n",
    "        f.write(f'{spkid}\\t{gender}\\n')\n"
   ]
  },
  {
   "cell_type": "code",
   "execution_count": 92,
   "metadata": {
    "collapsed": true
   },
   "outputs": [],
   "source": [
    "with open('idtogender.tsv', 'a+') as f:\n",
    "    for i in range(2483):\n",
    "        if i not in d:\n",
    "            d[i] = 'U'\n",
    "            f.write(f'{i}\\tU\\n')"
   ]
  },
  {
   "cell_type": "code",
   "execution_count": 94,
   "metadata": {
    "collapsed": true
   },
   "outputs": [],
   "source": [
    "for i in range(2483):\n",
    "    if i not in d:\n",
    "        d[i] = 'U'"
   ]
  },
  {
   "cell_type": "code",
   "execution_count": 95,
   "metadata": {
    "collapsed": true
   },
   "outputs": [],
   "source": [
    "with open('idtogender.tsv', 'w+') as f:\n",
    "    f.write('spkid\\tgender\\n')\n",
    "    for spkid, gender in sorted(d.items()):\n",
    "        f.write(f'{spkid}\\t{gender}\\n')"
   ]
  }
 ],
 "metadata": {
  "kernelspec": {
   "display_name": "Python 3",
   "language": "python",
   "name": "python3"
  },
  "language_info": {
   "codemirror_mode": {
    "name": "ipython",
    "version": 3
   },
   "file_extension": ".py",
   "mimetype": "text/x-python",
   "name": "python",
   "nbconvert_exporter": "python",
   "pygments_lexer": "ipython3",
   "version": "3.6.0"
  }
 },
 "nbformat": 4,
 "nbformat_minor": 2
}
