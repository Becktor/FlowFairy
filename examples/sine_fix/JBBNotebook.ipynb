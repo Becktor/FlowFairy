{
 "cells": [
  {
   "cell_type": "code",
   "execution_count": 1,
   "metadata": {
    "collapsed": true
   },
   "outputs": [],
   "source": [
    "import tensorflow as tf\n",
    "import os\n",
    "import matplotlib.pyplot as plt\n",
    "import numpy as np"
   ]
  },
  {
   "cell_type": "code",
   "execution_count": 2,
   "metadata": {
    "collapsed": false
   },
   "outputs": [
    {
     "data": {
      "text/plain": [
       "'settings'"
      ]
     },
     "execution_count": 2,
     "metadata": {},
     "output_type": "execute_result"
    }
   ],
   "source": [
    "os.environ.setdefault('GLUE_SETTINGS_MODULE', 'settings')"
   ]
  },
  {
   "cell_type": "code",
   "execution_count": 3,
   "metadata": {
    "collapsed": false
   },
   "outputs": [],
   "source": [
    "import jbb.model1 as nw\n",
    "from flowfairy.conf import settings"
   ]
  },
  {
   "cell_type": "code",
   "execution_count": 4,
   "metadata": {
    "collapsed": true
   },
   "outputs": [],
   "source": [
    "batch_size = settings.BATCH_SIZE\n",
    "samplerate = settings.SAMPLERATE"
   ]
  },
  {
   "cell_type": "code",
   "execution_count": 5,
   "metadata": {
    "collapsed": true
   },
   "outputs": [],
   "source": [
    "x = tf.placeholder(tf.float32, [1, samplerate])\n",
    "cls = tf.placeholder(tf.int32, 1)"
   ]
  },
  {
   "cell_type": "code",
   "execution_count": 6,
   "metadata": {
    "collapsed": false,
    "scrolled": false
   },
   "outputs": [
    {
     "name": "stdout",
     "output_type": "stream",
     "text": [
      "conv1:  Tensor(\"network/glu_conv1_1/mul:0\", shape=(1, 16384, 1, 4), dtype=float32)\n",
      "conv1:  Tensor(\"network/glu_conv1_2/mul:0\", shape=(1, 16384, 1, 4), dtype=float32)\n",
      "conv2:  Tensor(\"network/glu_conv2_1/mul:0\", shape=(1, 16384, 1, 8), dtype=float32)\n",
      "conv2:  Tensor(\"network/glu_conv2_2/mul:0\", shape=(1, 16384, 1, 8), dtype=float32)\n",
      "conv2:  Tensor(\"network/MaxPool2D/MaxPool:0\", shape=(1, 8192, 1, 8), dtype=float32)\n",
      "embedded: Tensor(\"network/embedding/concat:0\", shape=(1, 8192, 1, 10), dtype=float32)\n",
      "conv3:  Tensor(\"network/glu_conv3_2/mul:0\", shape=(1, 8192, 1, 16), dtype=float32)\n",
      "d2sp:  Tensor(\"network/d2s1/Reshape:0\", shape=(1, 16384, 1, 8), dtype=float32)\n",
      "conv4:  Tensor(\"network/glu_conv4_3/mul:0\", shape=(1, 16384, 1, 64), dtype=float32)\n",
      "conv5:  Tensor(\"network/conv5/Relu:0\", shape=(1, 16384, 1, 256), dtype=float32)\n",
      "out:  Tensor(\"network/output/Reshape:0\", shape=(1, 16384, 256), dtype=float32)\n"
     ]
    }
   ],
   "source": [
    "with tf.variable_scope('network'):\n",
    "    net = nw.conv_net(x, cls, None)"
   ]
  },
  {
   "cell_type": "code",
   "execution_count": 7,
   "metadata": {
    "collapsed": true
   },
   "outputs": [],
   "source": [
    "saver = tf.train.Saver()"
   ]
  },
  {
   "cell_type": "code",
   "execution_count": 8,
   "metadata": {
    "collapsed": true
   },
   "outputs": [],
   "source": [
    "sess = tf.InteractiveSession()"
   ]
  },
  {
   "cell_type": "code",
   "execution_count": 9,
   "metadata": {
    "collapsed": false,
    "scrolled": false
   },
   "outputs": [
    {
     "name": "stdout",
     "output_type": "stream",
     "text": [
      "INFO:tensorflow:Restoring parameters from /home/s123094/FlowFairy/examples/sine_fix/logs/emb_mid_r3.ckpt-108000\n"
     ]
    }
   ],
   "source": [
    "saver.restore(sess, tf.train.latest_checkpoint('logs','emb_mid_r3.checkpoint'))"
   ]
  },
  {
   "cell_type": "code",
   "execution_count": 10,
   "metadata": {
    "collapsed": false
   },
   "outputs": [],
   "source": [
    "coll = tf.get_collection(tf.GraphKeys.TRAINABLE_VARIABLES)\n",
    "c1uw = coll[0]"
   ]
  },
  {
   "cell_type": "code",
   "execution_count": 11,
   "metadata": {
    "collapsed": false
   },
   "outputs": [
    {
     "name": "stdout",
     "output_type": "stream",
     "text": [
      "0 <tf.Variable 'network/conv1_1_unit/weights:0' shape=(256, 1, 1, 4) dtype=float32_ref>\n",
      "1 <tf.Variable 'network/conv1_1_unit/BatchNorm/beta:0' shape=(4,) dtype=float32_ref>\n",
      "2 <tf.Variable 'network/conv1_1_gate/weights:0' shape=(256, 1, 1, 4) dtype=float32_ref>\n",
      "3 <tf.Variable 'network/conv1_1_gate/BatchNorm/beta:0' shape=(4,) dtype=float32_ref>\n",
      "4 <tf.Variable 'network/conv1_2_unit/weights:0' shape=(256, 1, 4, 4) dtype=float32_ref>\n",
      "5 <tf.Variable 'network/conv1_2_unit/biases:0' shape=(4,) dtype=float32_ref>\n",
      "6 <tf.Variable 'network/conv1_2_gate/weights:0' shape=(256, 1, 4, 4) dtype=float32_ref>\n",
      "7 <tf.Variable 'network/conv1_2_gate/biases:0' shape=(4,) dtype=float32_ref>\n",
      "8 <tf.Variable 'network/conv2_1_unit/weights:0' shape=(128, 1, 4, 8) dtype=float32_ref>\n",
      "9 <tf.Variable 'network/conv2_1_unit/biases:0' shape=(8,) dtype=float32_ref>\n",
      "10 <tf.Variable 'network/conv2_1_gate/weights:0' shape=(128, 1, 4, 8) dtype=float32_ref>\n",
      "11 <tf.Variable 'network/conv2_1_gate/biases:0' shape=(8,) dtype=float32_ref>\n",
      "12 <tf.Variable 'network/conv2_2_unit/weights:0' shape=(128, 1, 8, 8) dtype=float32_ref>\n",
      "13 <tf.Variable 'network/conv2_2_unit/biases:0' shape=(8,) dtype=float32_ref>\n",
      "14 <tf.Variable 'network/conv2_2_gate/weights:0' shape=(128, 1, 8, 8) dtype=float32_ref>\n",
      "15 <tf.Variable 'network/conv2_2_gate/biases:0' shape=(8,) dtype=float32_ref>\n",
      "16 <tf.Variable 'network/embedding/embedding:0' shape=(200, 2) dtype=float32_ref>\n",
      "17 <tf.Variable 'network/conv3_1_unit/weights:0' shape=(128, 1, 10, 16) dtype=float32_ref>\n",
      "18 <tf.Variable 'network/conv3_1_unit/biases:0' shape=(16,) dtype=float32_ref>\n",
      "19 <tf.Variable 'network/conv3_1_gate/weights:0' shape=(128, 1, 10, 16) dtype=float32_ref>\n",
      "20 <tf.Variable 'network/conv3_1_gate/biases:0' shape=(16,) dtype=float32_ref>\n",
      "21 <tf.Variable 'network/conv3_2_unit/weights:0' shape=(128, 1, 16, 16) dtype=float32_ref>\n",
      "22 <tf.Variable 'network/conv3_2_unit/biases:0' shape=(16,) dtype=float32_ref>\n",
      "23 <tf.Variable 'network/conv3_2_gate/weights:0' shape=(128, 1, 16, 16) dtype=float32_ref>\n",
      "24 <tf.Variable 'network/conv3_2_gate/biases:0' shape=(16,) dtype=float32_ref>\n",
      "25 <tf.Variable 'network/conv4_1_unit/weights:0' shape=(128, 1, 8, 16) dtype=float32_ref>\n",
      "26 <tf.Variable 'network/conv4_1_unit/biases:0' shape=(16,) dtype=float32_ref>\n",
      "27 <tf.Variable 'network/conv4_1_gate/weights:0' shape=(128, 1, 8, 16) dtype=float32_ref>\n",
      "28 <tf.Variable 'network/conv4_1_gate/biases:0' shape=(16,) dtype=float32_ref>\n",
      "29 <tf.Variable 'network/conv4_2_unit/weights:0' shape=(128, 1, 20, 32) dtype=float32_ref>\n",
      "30 <tf.Variable 'network/conv4_2_unit/biases:0' shape=(32,) dtype=float32_ref>\n",
      "31 <tf.Variable 'network/conv4_2_gate/weights:0' shape=(128, 1, 20, 32) dtype=float32_ref>\n",
      "32 <tf.Variable 'network/conv4_2_gate/biases:0' shape=(32,) dtype=float32_ref>\n",
      "33 <tf.Variable 'network/conv4_3_unit/weights:0' shape=(128, 1, 32, 64) dtype=float32_ref>\n",
      "34 <tf.Variable 'network/conv4_3_unit/biases:0' shape=(64,) dtype=float32_ref>\n",
      "35 <tf.Variable 'network/conv4_3_gate/weights:0' shape=(128, 1, 32, 64) dtype=float32_ref>\n",
      "36 <tf.Variable 'network/conv4_3_gate/biases:0' shape=(64,) dtype=float32_ref>\n",
      "37 <tf.Variable 'network/conv5/weights:0' shape=(1, 1, 64, 256) dtype=float32_ref>\n",
      "38 <tf.Variable 'network/conv5/biases:0' shape=(256,) dtype=float32_ref>\n"
     ]
    }
   ],
   "source": [
    "i=0\n",
    "for i, v in enumerate(coll):\n",
    "    print(i,v)"
   ]
  },
  {
   "cell_type": "code",
   "execution_count": 12,
   "metadata": {
    "collapsed": false
   },
   "outputs": [
    {
     "name": "stdout",
     "output_type": "stream",
     "text": [
      "<tf.Variable 'network/embedding/embedding:0' shape=(200, 2) dtype=float32_ref>\n"
     ]
    },
    {
     "data": {
      "image/png": "[encoded data removed]",
      "text/plain": [
       "<matplotlib.figure.Figure at 0x7f39e305e358>"
      ]
     },
     "metadata": {},
     "output_type": "display_data"
    }
   ],
   "source": [
    "embedding = coll[16]\n",
    "print(embedding)\n",
    "plt.plot(embedding.eval()[:,0])\n",
    "plt.plot(embedding.eval()[:,1])\n",
    "plt.plot(embedding.eval().sum(1))\n",
    "plt.show()"
   ]
  },
  {
   "cell_type": "code",
   "execution_count": 13,
   "metadata": {
    "collapsed": false
   },
   "outputs": [],
   "source": [
    "def classify(val):\n",
    "    val = (val-np.min(val))/(np.max(val)-np.min(val))\n",
    "    return np.floor(val*255)\n",
    "\n",
    "def getid(frq):\n",
    "    limits = settings.FREQUENCY_LIMIT\n",
    "    count = settings.CLASS_COUNT\n",
    "    step = (limits[1] - limits[0]) // count\n",
    "    return (frq-limits[0])//step\n",
    "\n",
    "def getfrq(fid):\n",
    "    limits = settings.FREQUENCY_LIMIT\n",
    "    count = settings.CLASS_COUNT\n",
    "    step = (limits[1] - limits[0]) // count\n",
    "    return limits[0] + step*fid"
   ]
  },
  {
   "cell_type": "code",
   "execution_count": 14,
   "metadata": {
    "collapsed": false
   },
   "outputs": [
    {
     "name": "stdout",
     "output_type": "stream",
     "text": [
      "conv1:  Tensor(\"network_1/glu_conv1_1/mul:0\", shape=(1, 16384, 1, 4), dtype=float32)\n",
      "conv1:  Tensor(\"network_1/glu_conv1_2/mul:0\", shape=(1, 16384, 1, 4), dtype=float32)\n",
      "conv2:  Tensor(\"network_1/glu_conv2_1/mul:0\", shape=(1, 16384, 1, 8), dtype=float32)\n",
      "conv2:  Tensor(\"network_1/glu_conv2_2/mul:0\", shape=(1, 16384, 1, 8), dtype=float32)\n",
      "conv2:  Tensor(\"network_1/MaxPool2D/MaxPool:0\", shape=(1, 8192, 1, 8), dtype=float32)\n",
      "embedded: Tensor(\"network_1/embedding/concat:0\", shape=(1, 8192, 1, 10), dtype=float32)\n",
      "conv3:  Tensor(\"network_1/glu_conv3_2/mul:0\", shape=(1, 8192, 1, 16), dtype=float32)\n",
      "d2sp:  Tensor(\"network_1/d2s1/Reshape:0\", shape=(1, 16384, 1, 8), dtype=float32)\n",
      "conv4:  Tensor(\"network_1/glu_conv4_3/mul:0\", shape=(1, 16384, 1, 64), dtype=float32)\n",
      "conv5:  Tensor(\"network_1/conv5/Relu:0\", shape=(1, 16384, 1, 256), dtype=float32)\n",
      "out:  Tensor(\"network_1/output/Reshape:0\", shape=(1, 16384, 256), dtype=float32)\n"
     ]
    }
   ],
   "source": [
    "with tf.variable_scope('network', reuse=True):\n",
    "    tnet = nw.conv_net(x, cls, None, is_training=True)"
   ]
  },
  {
   "cell_type": "code",
   "execution_count": 15,
   "metadata": {
    "collapsed": false
   },
   "outputs": [],
   "source": [
    "pred = tf.argmax(net, 2)"
   ]
  },
  {
   "cell_type": "code",
   "execution_count": 16,
   "metadata": {
    "collapsed": true
   },
   "outputs": [],
   "source": [
    "tpred = tf.argmax(tnet, 2)"
   ]
  },
  {
   "cell_type": "code",
   "execution_count": 87,
   "metadata": {
    "collapsed": false,
    "scrolled": false
   },
   "outputs": [
    {
     "name": "stdout",
     "output_type": "stream",
     "text": [
      "320\n",
      "800\n"
     ]
    }
   ],
   "source": [
    "frqid = 10\n",
    "frq = getfrq(frqid)\n",
    "print(frq)\n",
    "\n",
    "bfrq = getfrq(250)\n",
    "print(bfrq)\n",
    "\n",
    "myrange = np.arange(samplerate) * 2 * np.pi / samplerate\n",
    "mysine = np.sin(myrange * frq)\n",
    "mysine2 = 0#np.sin(myrange * bfrq)\n",
    "noise = 1#np.random.uniform(0.5, 0.5, samplerate)\n",
    "\n",
    "#plt.plot(mysine)\n",
    "#plt.show()"
   ]
  },
  {
   "cell_type": "code",
   "execution_count": 88,
   "metadata": {
    "collapsed": true
   },
   "outputs": [],
   "source": [
    "b = np.array([mysine+mysine2+noise])\n",
    "y = np.array([frqid])\n",
    "run = sess.run(pred, feed_dict={x: b, cls: y})"
   ]
  },
  {
   "cell_type": "code",
   "execution_count": 89,
   "metadata": {
    "collapsed": false,
    "scrolled": false
   },
   "outputs": [
    {
     "data": {
      "image/png": "[encoded data removed]",
      "text/plain": [
       "<matplotlib.figure.Figure at 0x7f39dc07ea20>"
      ]
     },
     "metadata": {},
     "output_type": "display_data"
    }
   ],
   "source": [
    "#plt.plot(classify(b[0][1000:2000]))\n",
    "plt.plot(run[0][1000:1200], 'r')\n",
    "plt.plot(classify(mysine)[1000:1200], 'b', alpha=0.5)\n",
    "plt.plot(classify(b[0][1000:1200]), 'g', alpha=0.5)\n",
    "plt.show()"
   ]
  },
  {
   "cell_type": "markdown",
   "metadata": {
    "collapsed": false
   },
   "source": [
    "# print(tf.train.Saver.last_checkpoints)\n",
    "print(saver.last_checkpoints)\n",
    "l = tf.train.latest_checkpoint('logs', latest_filename='GGLU_e2_256.checkpoint')\n",
    "step = l[l.rfind('-')+1:]\n",
    "print(step)"
   ]
  },
  {
   "cell_type": "code",
   "execution_count": 20,
   "metadata": {
    "collapsed": false
   },
   "outputs": [
    {
     "data": {
      "text/plain": [
       "10.0"
      ]
     },
     "execution_count": 20,
     "metadata": {},
     "output_type": "execute_result"
    }
   ],
   "source": [
    "(150-120)/3\n"
   ]
  },
  {
   "cell_type": "code",
   "execution_count": null,
   "metadata": {
    "collapsed": true
   },
   "outputs": [],
   "source": []
  }
 ],
 "metadata": {
  "kernelspec": {
   "display_name": "Python 3",
   "language": "python",
   "name": "python3"
  },
  "language_info": {
   "codemirror_mode": {
    "name": "ipython",
    "version": 3
   },
   "file_extension": ".py",
   "mimetype": "text/x-python",
   "name": "python",
   "nbconvert_exporter": "python",
   "pygments_lexer": "ipython3",
   "version": "3.6.0"
  }
 },
 "nbformat": 4,
 "nbformat_minor": 2
}
