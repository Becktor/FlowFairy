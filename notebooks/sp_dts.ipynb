{
 "cells": [
  {
   "cell_type": "code",
   "execution_count": 17,
   "metadata": {},
   "outputs": [
    {
     "name": "stdout",
     "output_type": "stream",
     "text": [
      "Populating the interactive namespace from numpy and matplotlib\n",
      "(1, 8, 8, 4)\n"
     ]
    },
    {
     "data": {
      "image/png": "[encoded data removed]",
      "text/plain": [
       "<matplotlib.figure.Figure at 0x7f5e60aeeeb8>"
      ]
     },
     "metadata": {},
     "output_type": "display_data"
    }
   ],
   "source": [
    "def _phase_shift(I, r):\n",
    "    bsize, a, b, c = I.get_shape().as_list()\n",
    "    bsize = tf.shape(I)[0] # Handling Dimension(None) type for undefined batch dim\n",
    "    X = tf.reshape(I, (bsize, a, b, r, r))\n",
    "    X = tf.transpose(X, (0, 1, 2, 4, 3))  # bsize, a, b, 1, 1\n",
    "    X = tf.split(X, a, 1)  # a, [bsize, b, r, r]\n",
    "    X = tf.concat([tf.squeeze(x, axis=1) for x in X],2)  # bsize, b, a*r, r\n",
    "    X = tf.split(X, b, 1)  # b, [bsize, a*r, r]\n",
    "    X = tf.concat([tf.squeeze(x, axis=1) for x in X],2)  # bsize, a*r, b*r\n",
    "    return tf.reshape(X, (bsize, a*r, b*r, 1))\n",
    "\n",
    "def _phase_shifter(I, r):\n",
    "    bsize, a, b, c = I.get_shape().as_list()\n",
    "    bsize = tf.shape(I)[0] # Handling Dimension(None) type for undefined batch dim\n",
    "    X = tf.reshape(I, (bsize, a, b, r, r))\n",
    "    X = tf.transpose(X, (0, 1, 2, 4, 3))  # bsize, a, b, 1, 1\n",
    "    X = tf.split(X, a,1)  # a, [bsize, b, r, r]\n",
    "    X = tf.concat([tf.squeeze(x, axis=1) for x in X],2)  # bsize, b, a*r, r\n",
    "    X = tf.split(X, b,1)  # b, [bsize, a*r, r]\n",
    "    X = tf.concat([tf.squeeze(x, axis=1) for x in X],2)  # bsize, a*r, b*r\n",
    "    return tf.reshape(X, (bsize, a*r, b*r, 1))\n",
    "\n",
    "\n",
    "def PS(X, r, color=False):\n",
    "    if color:\n",
    "        Xc = tf.split(X, 3, 3)\n",
    "        X = tf.concat([_phase_shifter(x, r) for x in Xc], 3)\n",
    "    else:\n",
    "        X = _phase_shifter(X, r)\n",
    "    return X\n",
    "\n",
    "%pylab inline\n",
    "import tensorflow as tf\n",
    "\n",
    "# Feature map with shape [1, 8, 8, 4] with each feature map i having value i\n",
    "x = np.ones((1, 8, 8, 4)) * np.arange(4)[None, None, None, :]\n",
    "# Convert to a [1, 16, 16, 1] Tensor\n",
    "y = tf.depth_to_space(tf.constant(x), 2)\n",
    "\n",
    "sess = tf.InteractiveSession()\n",
    "out = sess.run(y)\n",
    "\n",
    "# Plot results\n",
    "figure(figsize=(8, 3))\n",
    "gs = GridSpec(2, 4, width_ratios=[1, 1, 2, 2])\n",
    "for i in range(4):\n",
    "  subplot(gs[i//2, i%2])\n",
    "  imshow(x[:, :, :, i].squeeze(), cmap=cm.jet, vmin=0, vmax=4, interpolation='nearest'); \n",
    "  # Add ticks at pixels, annoyingly have to offset by 0.5 to line up with pixels\n",
    "  xticks(0.5 + np.arange(8)); yticks(0.5 + np.arange(8));\n",
    "  gca().set_xticklabels([]); gca().set_yticklabels([]);\n",
    "  title('feature %d'%i)\n",
    "  \n",
    "  \n",
    "subplot(gs[:, 2])\n",
    "print(x.shape)\n",
    "out_ps = sess.run(PS(tf.constant(x), 2))\n",
    "imshow(out_ps.squeeze().T, cmap=cm.jet, vmin=0, vmax=4, interpolation='nearest'); \n",
    "axis('off')\n",
    "title('phase shift')\n",
    "\n",
    "subplot(gs[:, 3])\n",
    "imshow(out.squeeze(), cmap=cm.jet, vmin=0, vmax=4, interpolation='nearest'); \n",
    "axis('off')\n",
    "title('depth_to_space')\n",
    "\n",
    "\n",
    "gcf().tight_layout()"
   ]
  },
  {
   "cell_type": "code",
   "execution_count": null,
   "metadata": {
    "collapsed": true
   },
   "outputs": [],
   "source": []
  }
 ],
 "metadata": {
  "kernelspec": {
   "display_name": "Python 3",
   "language": "python",
   "name": "python3"
  },
  "language_info": {
   "codemirror_mode": {
    "name": "ipython",
    "version": 3
   },
   "file_extension": ".py",
   "mimetype": "text/x-python",
   "name": "python",
   "nbconvert_exporter": "python",
   "pygments_lexer": "ipython3",
   "version": "3.6.1"
  }
 },
 "nbformat": 4,
 "nbformat_minor": 2
}
